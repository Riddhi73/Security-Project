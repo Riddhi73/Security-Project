{
  "cells": [
    {
      "cell_type": "code",
      "execution_count": 2,
      "metadata": {
        "id": "e1Vo3LaYbM9o"
      },
      "outputs": [],
      "source": [
        "def findP(n):\n",
        "  for i in range(2,n+1):\n",
        "    if ((n%i) == 0):\n",
        "      return i\n",
        "  return 1\n",
        "\n",
        "def extended_gcd(a, b):\n",
        "    if a == 0:\n",
        "        return (b, 0, 1)\n",
        "    else:\n",
        "        gcd, x1, y1 = extended_gcd(b % a, a)\n",
        "        x = y1 - (b // a) * x1\n",
        "        y = x1\n",
        "        return (gcd, x, y)\n",
        "\n",
        "def find_modular_inverse(a, m):\n",
        "    gcd, x, y = extended_gcd(a, m)\n",
        "    if gcd != 1:\n",
        "        raise ValueError(f\"The modular inverse of {a} modulo {m} does not exist.\")\n",
        "    return x % m\n",
        "\n",
        "def bigmod(a, b, m):\n",
        "    if b == 0:\n",
        "        return 1 % m\n",
        "    if b % 2 == 0:\n",
        "        # If b is even, use the property (a^b) % m = ((a^(b/2)) % m * (a^(b/2)) % m) % m\n",
        "        temp = bigmod(a, b // 2, m)\n",
        "        return (temp * temp) % m\n",
        "    else:\n",
        "        # If b is odd, use the property (a^b) % m = (a % m * (a^(b-1)) % m) % m\n",
        "        temp = bigmod(a, b - 1, m)\n",
        "        return (a % m * temp) % m\n",
        "\n",
        "def encrypt(m, e, n):\n",
        "    encrypted_values = []\n",
        "    for char in m:\n",
        "        val = ord(char) - ord('a') + 1\n",
        "        ans = bigmod(val, e, n)\n",
        "        encrypted_values.append(ans)\n",
        "    return encrypted_values\n",
        "\n",
        "def decrypt(ch, d, n):\n",
        "  s = \"\"\n",
        "  for c in ch:\n",
        "    ans = bigmod(c,d,n)\n",
        "    s+= chr(ans-1+ ord('a'))\n",
        "\n",
        "  return s\n",
        "\n",
        "\n"
      ]
    },
    {
      "cell_type": "code",
      "execution_count": 4,
      "metadata": {
        "id": "WaGIc0ezdKBz"
      },
      "outputs": [
        {
          "name": "stdout",
          "output_type": "stream",
          "text": [
            "1234571\n"
          ]
        },
        {
          "data": {
            "text/plain": [
              "[465692,\n",
              " 616679,\n",
              " 577247,\n",
              " 577247,\n",
              " 380638,\n",
              " 233153,\n",
              " 1,\n",
              " 25757,\n",
              " 541619,\n",
              " 199704,\n",
              " 616679,\n",
              " 469702,\n",
              " 469702]"
            ]
          },
          "execution_count": 4,
          "metadata": {},
          "output_type": "execute_result"
        }
      ],
      "source": [
        "n = int(input('Enter a value:'));\n",
        "e = 1234571;\n",
        "p = findP(n)\n",
        "q = n/ p\n",
        "phi = (p-1) * (q-1);\n",
        "#e = (p-1)*(q-1) \n",
        "print(e)\n",
        "d = find_modular_inverse(e,phi)\n",
        "\n",
        "filePath = input('File name: ')\n",
        "\n",
        "with open(filePath,'r') as file:\n",
        "    plainTxt = file.read()\n",
        "\n",
        "encryptedMsg = encrypt(plainTxt,e,n)\n",
        "encryptedMsg"
      ]
    },
    {
      "cell_type": "code",
      "execution_count": 5,
      "metadata": {
        "id": "Dv3YArDZdiDJ"
      },
      "outputs": [],
      "source": [
        "decryptedMsg = decrypt(encryptedMsg,d,n)\n",
        "file_path = input('Enter file name: ')\n",
        "\n",
        "with open(file_path, 'a') as file:\n",
        "    file.write(decryptedMsg + '\\n')"
      ]
    },
    {
      "cell_type": "code",
      "execution_count": 6,
      "metadata": {
        "colab": {
          "base_uri": "https://localhost:8080/",
          "height": 35
        },
        "id": "3Rqin4AIdkeY",
        "outputId": "610e98ba-8d72-4ea9-fea3-047d0c0567e9"
      },
      "outputs": [
        {
          "data": {
            "text/plain": [
              "'hellodarkness'"
            ]
          },
          "execution_count": 6,
          "metadata": {},
          "output_type": "execute_result"
        }
      ],
      "source": [
        "decryptedMsg"
      ]
    },
    {
      "cell_type": "code",
      "execution_count": null,
      "metadata": {
        "id": "fb-jAAoVeC4E"
      },
      "outputs": [],
      "source": []
    }
  ],
  "metadata": {
    "colab": {
      "provenance": []
    },
    "kernelspec": {
      "display_name": "Python 3",
      "name": "python3"
    },
    "language_info": {
      "codemirror_mode": {
        "name": "ipython",
        "version": 3
      },
      "file_extension": ".py",
      "mimetype": "text/x-python",
      "name": "python",
      "nbconvert_exporter": "python",
      "pygments_lexer": "ipython3",
      "version": "3.9.10"
    }
  },
  "nbformat": 4,
  "nbformat_minor": 0
}
