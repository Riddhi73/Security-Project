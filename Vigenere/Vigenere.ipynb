{
 "cells": [
  {
   "cell_type": "code",
   "execution_count": 24,
   "id": "95df3687",
   "metadata": {},
   "outputs": [
    {
     "name": "stdout",
     "output_type": "stream",
     "text": [
      "Input File name :input.txt\n",
      "Enter key: def\n"
     ]
    }
   ],
   "source": [
    "\n",
    "file_path = input('Input File name :')  # Replace with the actual path to your input file\n",
    "\n",
    "# Read the lines from the input file and store them in a list\n",
    "with open(file_path, 'r') as file:\n",
    "    lines = file.readlines()\n",
    "\n",
    "# Combine the lines into a single text variable\n",
    "text = ''.join(lines)\n",
    "key = input(\"Enter key: \")"
   ]
  },
  {
   "cell_type": "code",
   "execution_count": 25,
   "id": "5ac4e803",
   "metadata": {},
   "outputs": [
    {
     "name": "stdout",
     "output_type": "stream",
     "text": [
      "abc\n"
     ]
    }
   ],
   "source": [
    "print(text)\n"
   ]
  },
  {
   "cell_type": "code",
   "execution_count": 26,
   "id": "7fcf18f1",
   "metadata": {},
   "outputs": [
    {
     "name": "stdout",
     "output_type": "stream",
     "text": [
      "def\n"
     ]
    }
   ],
   "source": [
    "key1= key\n",
    "n=len(key)\n",
    "m= len(text)\n",
    "while(m<n):\n",
    "    key1+= key[i%len(key)]\n",
    "    i+=1\n",
    "    n+=1\n",
    "print(key1)"
   ]
  },
  {
   "cell_type": "code",
   "execution_count": 27,
   "id": "6e72ba36",
   "metadata": {},
   "outputs": [],
   "source": [
    "def de(x,k):\n",
    "    return chr((((ord(x)-ord('a'))-(ord(k)-ord('a')))%26)+ord('a'))\n",
    "\n",
    "def en(x,k):\n",
    "    return chr((((ord(x)-ord('a'))+(ord(k)-ord('a')))%26)+ord('a'))"
   ]
  },
  {
   "cell_type": "code",
   "execution_count": 28,
   "id": "2bda35fb",
   "metadata": {},
   "outputs": [
    {
     "name": "stdout",
     "output_type": "stream",
     "text": [
      "dfh\n"
     ]
    }
   ],
   "source": [
    "l = []\n",
    "i = 0\n",
    "\n",
    "for c in text:\n",
    "    if c.isalpha():\n",
    "        l.append(en(c,key1[i]))\n",
    "        i += 1\n",
    "    else:\n",
    "        l.append(c)\n",
    "\n",
    "ciphertext = ''.join(l)      \n",
    "print(''.join(l))"
   ]
  },
  {
   "cell_type": "code",
   "execution_count": 29,
   "id": "76a39588",
   "metadata": {},
   "outputs": [
    {
     "name": "stdout",
     "output_type": "stream",
     "text": [
      "abc\n"
     ]
    }
   ],
   "source": [
    "l = []\n",
    "i = 0\n",
    "\n",
    "for c in ciphertext:\n",
    "    if c.isalpha():\n",
    "        l.append(de(c,key1[i]))\n",
    "        i +=1\n",
    "    else:\n",
    "        l.append(c)\n",
    "\n",
    "pt=''.join(l)\n",
    "print(pt)\n"
   ]
  },
  {
   "cell_type": "code",
   "execution_count": null,
   "id": "635152a8",
   "metadata": {},
   "outputs": [],
   "source": [
    "output_file_path = input('Output File name :')  # Replace with the actual path to your input file\n",
    "\n",
    "\n",
    "# The text you want to save\n",
    "text_to_save = pt\n",
    "\n",
    "# Open the output file in write mode\n",
    "with open(output_file_path, 'w') as file:\n",
    "    # Write the text content to the file\n",
    "    file.write(text_to_save)\n"
   ]
  },
  {
   "cell_type": "code",
   "execution_count": null,
   "id": "bcf0ef65",
   "metadata": {},
   "outputs": [],
   "source": []
  },
  {
   "cell_type": "code",
   "execution_count": null,
   "id": "5373b5d1",
   "metadata": {},
   "outputs": [],
   "source": []
  }
 ],
 "metadata": {
  "kernelspec": {
   "display_name": "Python 3 (ipykernel)",
   "language": "python",
   "name": "python3"
  },
  "language_info": {
   "codemirror_mode": {
    "name": "ipython",
    "version": 3
   },
   "file_extension": ".py",
   "mimetype": "text/x-python",
   "name": "python",
   "nbconvert_exporter": "python",
   "pygments_lexer": "ipython3",
   "version": "3.9.12"
  }
 },
 "nbformat": 4,
 "nbformat_minor": 5
}
