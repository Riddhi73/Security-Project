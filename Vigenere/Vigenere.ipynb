{
 "cells": [
  {
   "cell_type": "code",
   "execution_count": 1,
   "id": "95df3687",
   "metadata": {},
   "outputs": [
    {
     "name": "stdout",
     "output_type": "stream",
     "text": [
      "Enter text: abc\n",
      "Enter key: def\n"
     ]
    }
   ],
   "source": [
    "text = input(\"Enter text: \")\n",
    "key = input(\"Enter key: \")"
   ]
  },
  {
   "cell_type": "code",
   "execution_count": 2,
   "id": "7fcf18f1",
   "metadata": {},
   "outputs": [],
   "source": [
    "key1= key\n",
    "n=len(key)\n",
    "m= len(text)\n",
    "while(m<n):\n",
    "    key1+= key[i%len(key)]\n",
    "    i+=1\n",
    "    n+=1"
   ]
  },
  {
   "cell_type": "code",
   "execution_count": 3,
   "id": "6e72ba36",
   "metadata": {},
   "outputs": [],
   "source": [
    "def de(x,k):\n",
    "    return chr((((ord(x)-ord('a'))-(ord(k)-ord('a')))%26)+ord('a'))\n",
    "\n",
    "def en(x,k):\n",
    "    return chr((((ord(x)-ord('a'))+(ord(k)-ord('a')))%26)+ord('a'))"
   ]
  },
  {
   "cell_type": "code",
   "execution_count": null,
   "id": "2bda35fb",
   "metadata": {},
   "outputs": [],
   "source": [
    "l = []\n",
    "i = 0\n",
    "\n",
    "for c in text:\n",
    "    if c.isalpha():\n",
    "        l.append(en(c,key1[i]))\n",
    "        i += 1\n",
    "    else:\n",
    "        l.append(c)\n",
    "\n",
    "ciphertext = ''.join()      \n",
    "print(''.join(l))"
   ]
  },
  {
   "cell_type": "code",
   "execution_count": null,
   "id": "76a39588",
   "metadata": {},
   "outputs": [],
   "source": [
    "l = []\n",
    "i = 0\n",
    "\n",
    "for c in ciphertext:\n",
    "    if c.isalpha():\n",
    "        l.append(de(c,key1[i]))\n",
    "        i +=1\n",
    "    else:\n",
    "        l.append(c)\n",
    "\n",
    "print(''.join(l))"
   ]
  },
  {
   "cell_type": "code",
   "execution_count": null,
   "id": "635152a8",
   "metadata": {},
   "outputs": [],
   "source": []
  }
 ],
 "metadata": {
  "kernelspec": {
   "display_name": "Python 3 (ipykernel)",
   "language": "python",
   "name": "python3"
  },
  "language_info": {
   "codemirror_mode": {
    "name": "ipython",
    "version": 3
   },
   "file_extension": ".py",
   "mimetype": "text/x-python",
   "name": "python",
   "nbconvert_exporter": "python",
   "pygments_lexer": "ipython3",
   "version": "3.9.12"
  }
 },
 "nbformat": 4,
 "nbformat_minor": 5
}
